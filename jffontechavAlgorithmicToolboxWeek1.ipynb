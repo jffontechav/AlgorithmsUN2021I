{
  "nbformat": 4,
  "nbformat_minor": 0,
  "metadata": {
    "colab": {
      "name": "jffontechavAlgorithmicToolboxWeek1.ipynb",
      "provenance": [],
      "collapsed_sections": []
    },
    "kernelspec": {
      "name": "python3",
      "display_name": "Python 3"
    },
    "language_info": {
      "name": "python"
    }
  },
  "cells": [
    {
      "cell_type": "markdown",
      "metadata": {
        "id": "4rjKXqiBnojb"
      },
      "source": [
        "#### **Week 1. Algorithmic ToolBox**\n",
        "Exercises of Algorithm Toolbox / Coursera\n"
      ]
    },
    {
      "cell_type": "markdown",
      "metadata": {
        "id": "j_DeDRH6oOYr"
      },
      "source": [
        "### **Sum of two Digits Programming**\n"
      ]
    },
    {
      "cell_type": "markdown",
      "metadata": {
        "id": "AFfaEdnjqjys"
      },
      "source": [
        "##### **C++**"
      ]
    },
    {
      "cell_type": "code",
      "metadata": {
        "colab": {
          "base_uri": "https://localhost:8080/"
        },
        "id": "mEj-HflQnoG7",
        "outputId": "e0b95f4a-f979-4977-dae8-3711a0d88042"
      },
      "source": [
        "%%writefile sum.cpp\n",
        "#include <iostream>\n",
        "\n",
        "int sum_of_two_digits(int first_digit, int second_digit) {\n",
        "    return first_digit + second_digit;\n",
        "}\n",
        "\n",
        "int main() {\n",
        "    int a = 0;\n",
        "    int b = 0;\n",
        "    std::cin >> a;\n",
        "    std::cin >> b;\n",
        "    std::cout << sum_of_two_digits(a, b);\n",
        "    return 0;\n",
        "}"
      ],
      "execution_count": 1,
      "outputs": [
        {
          "output_type": "stream",
          "text": [
            "Writing sum.cpp\n"
          ],
          "name": "stdout"
        }
      ]
    },
    {
      "cell_type": "markdown",
      "metadata": {
        "id": "H_0OubesodLC"
      },
      "source": [
        "Running file using Linux commands"
      ]
    },
    {
      "cell_type": "code",
      "metadata": {
        "colab": {
          "base_uri": "https://localhost:8080/"
        },
        "id": "T0mvxAZ1nXRO",
        "outputId": "8e710823-4cf0-4604-d226-909ba81884cb"
      },
      "source": [
        "!g++ sum.cpp -o sum\n",
        "!./sum"
      ],
      "execution_count": 2,
      "outputs": [
        {
          "output_type": "stream",
          "text": [
            "5 4\n",
            "9"
          ],
          "name": "stdout"
        }
      ]
    },
    {
      "cell_type": "markdown",
      "metadata": {
        "id": "cF7Y8ntWosIq"
      },
      "source": [
        "**Testing input and output files**"
      ]
    },
    {
      "cell_type": "code",
      "metadata": {
        "id": "90wNMvXwpdET",
        "colab": {
          "base_uri": "https://localhost:8080/"
        },
        "outputId": "3c494cfe-5953-4d93-9e7a-574f0d3ed92c"
      },
      "source": [
        "%%writefile input1.txt\n",
        "4 8"
      ],
      "execution_count": 3,
      "outputs": [
        {
          "output_type": "stream",
          "text": [
            "Writing input1.txt\n"
          ],
          "name": "stdout"
        }
      ]
    },
    {
      "cell_type": "code",
      "metadata": {
        "id": "beeclWSwpeMj",
        "colab": {
          "base_uri": "https://localhost:8080/"
        },
        "outputId": "65daa523-3c86-4d09-be51-0f3eadaf0266"
      },
      "source": [
        "%%writefile output1.txt\n",
        "12"
      ],
      "execution_count": 4,
      "outputs": [
        {
          "output_type": "stream",
          "text": [
            "Writing output1.txt\n"
          ],
          "name": "stdout"
        }
      ]
    },
    {
      "cell_type": "code",
      "metadata": {
        "id": "d8K0ZqhgpgNi",
        "colab": {
          "base_uri": "https://localhost:8080/"
        },
        "outputId": "5fa99bfe-db53-4349-f359-113fe2cf5b36"
      },
      "source": [
        "%%writefile input2.txt\n",
        "-5 9"
      ],
      "execution_count": 5,
      "outputs": [
        {
          "output_type": "stream",
          "text": [
            "Writing input2.txt\n"
          ],
          "name": "stdout"
        }
      ]
    },
    {
      "cell_type": "code",
      "metadata": {
        "id": "vTVoV6dMphoL",
        "colab": {
          "base_uri": "https://localhost:8080/"
        },
        "outputId": "792f73c7-008a-4f12-ce5c-69d3cd671c67"
      },
      "source": [
        "%%writefile output2.txt\n",
        "4"
      ],
      "execution_count": 6,
      "outputs": [
        {
          "output_type": "stream",
          "text": [
            "Writing output2.txt\n"
          ],
          "name": "stdout"
        }
      ]
    },
    {
      "cell_type": "code",
      "metadata": {
        "id": "A8vk20FhpnFz",
        "colab": {
          "base_uri": "https://localhost:8080/"
        },
        "outputId": "3e75c947-96cc-4c40-c50a-dc7c03457ee8"
      },
      "source": [
        "!./sum < input1.txt"
      ],
      "execution_count": 7,
      "outputs": [
        {
          "output_type": "stream",
          "text": [
            "12"
          ],
          "name": "stdout"
        }
      ]
    },
    {
      "cell_type": "code",
      "metadata": {
        "id": "d-tHW-L3pwTL",
        "colab": {
          "base_uri": "https://localhost:8080/"
        },
        "outputId": "cb655961-a516-4bf3-c663-fbc6b3c1ba93"
      },
      "source": [
        "!./sum < input2.txt"
      ],
      "execution_count": 8,
      "outputs": [
        {
          "output_type": "stream",
          "text": [
            "4"
          ],
          "name": "stdout"
        }
      ]
    },
    {
      "cell_type": "markdown",
      "metadata": {
        "id": "VVCyVyz6pw7r"
      },
      "source": [
        "**Comparing files with grep**"
      ]
    },
    {
      "cell_type": "code",
      "metadata": {
        "id": "bNda4jOCqMls"
      },
      "source": [
        "!grep -xvFf output1.txt output1.txt"
      ],
      "execution_count": 9,
      "outputs": []
    },
    {
      "cell_type": "code",
      "metadata": {
        "id": "HIZIUMiJqPd8",
        "colab": {
          "base_uri": "https://localhost:8080/"
        },
        "outputId": "5b8a4a73-5ff7-4f49-8e0f-430ecba663ea"
      },
      "source": [
        "!grep -xvFf output1.txt output2.txt"
      ],
      "execution_count": 10,
      "outputs": [
        {
          "output_type": "stream",
          "text": [
            "4\n"
          ],
          "name": "stdout"
        }
      ]
    },
    {
      "cell_type": "code",
      "metadata": {
        "id": "h3y7Dwo2qRh7",
        "colab": {
          "base_uri": "https://localhost:8080/"
        },
        "outputId": "997d65b9-cdab-42e6-8dc5-dd7cd78b4410"
      },
      "source": [
        "!grep -xvFf output2.txt output1.txt"
      ],
      "execution_count": 11,
      "outputs": [
        {
          "output_type": "stream",
          "text": [
            "12\n"
          ],
          "name": "stdout"
        }
      ]
    },
    {
      "cell_type": "code",
      "metadata": {
        "id": "eEYTR0cpqS20"
      },
      "source": [
        "!./sum < input1.txt> ctest1.txt\n",
        "!grep -xvFf output1.txt ctest1.txt"
      ],
      "execution_count": 12,
      "outputs": []
    },
    {
      "cell_type": "code",
      "metadata": {
        "id": "vRANBuYCqTo0"
      },
      "source": [
        "!./sum < input2.txt > ctest2.txt\n",
        "!grep -xvFf output2.txt ctest2.txt"
      ],
      "execution_count": 13,
      "outputs": []
    },
    {
      "cell_type": "markdown",
      "metadata": {
        "id": "vo9noul8qpGr"
      },
      "source": [
        "##### **Python**\n"
      ]
    },
    {
      "cell_type": "code",
      "metadata": {
        "colab": {
          "base_uri": "https://localhost:8080/"
        },
        "id": "DsHEHlpOqyK7",
        "outputId": "5dca535b-cba6-494b-82bb-bcb6c901cb2f"
      },
      "source": [
        "%%writefile sum.py\n",
        "# python3\n",
        "\n",
        "def sum_of_two_digits(first_digit, second_digit):\n",
        "    return first_digit + second_digit\n",
        "\n",
        "if __name__ == '__main__':\n",
        "    a, b = map(int, input().split())\n",
        "    print(sum_of_two_digits(a, b))"
      ],
      "execution_count": 14,
      "outputs": [
        {
          "output_type": "stream",
          "text": [
            "Writing sum.py\n"
          ],
          "name": "stdout"
        }
      ]
    },
    {
      "cell_type": "code",
      "metadata": {
        "colab": {
          "base_uri": "https://localhost:8080/"
        },
        "id": "IM31mAQtrJC2",
        "outputId": "99f6f849-154e-4e18-bd45-bbe45854b866"
      },
      "source": [
        "!python sum.py4 "
      ],
      "execution_count": 15,
      "outputs": [
        {
          "output_type": "stream",
          "text": [
            "python3: can't open file 'sum.py4': [Errno 2] No such file or directory\n"
          ],
          "name": "stdout"
        }
      ]
    },
    {
      "cell_type": "code",
      "metadata": {
        "id": "DtcD-acarCt7"
      },
      "source": [
        "!python sum.py  < input1.txt> ptest1.txt\n",
        "!grep -xvFf output1.txt ptest1.txt"
      ],
      "execution_count": 16,
      "outputs": []
    },
    {
      "cell_type": "code",
      "metadata": {
        "id": "gBkmsDBQrPiz"
      },
      "source": [
        "!python sum.py  < input2.txt> ptest2.txt\n",
        "!grep -xvFf output2.txt ptest2.txt"
      ],
      "execution_count": 17,
      "outputs": []
    },
    {
      "cell_type": "markdown",
      "metadata": {
        "id": "yh0Y8b1DrmbI"
      },
      "source": [
        "### **Maximum Pairwise Product Programming**"
      ]
    },
    {
      "cell_type": "markdown",
      "metadata": {
        "id": "rmachi0lr02k"
      },
      "source": [
        "#### **C++: Naive**"
      ]
    },
    {
      "cell_type": "code",
      "metadata": {
        "colab": {
          "base_uri": "https://localhost:8080/"
        },
        "id": "icCUuIg1r3Lk",
        "outputId": "ace2b53f-f717-430c-accb-535fc780769b"
      },
      "source": [
        "%%writefile max_pairwise_product1.cpp\n",
        "#include <iostream>\n",
        "#include <vector>\n",
        "#include <algorithm>\n",
        "\n",
        "int MaxPairwiseProduct(const std::vector<int>& numbers) {\n",
        "    int max_product = 0;\n",
        "    int n = numbers.size();\n",
        "\n",
        "    for (int first = 0; first < n; ++first) {\n",
        "        for (int second = first + 1; second < n; ++second) {\n",
        "            max_product = std::max(max_product,\n",
        "                numbers[first] * numbers[second]);\n",
        "        }\n",
        "    }\n",
        "\n",
        "    return max_product;\n",
        "}\n",
        "\n",
        "int main() {\n",
        "    int n;\n",
        "    std::cin >> n;\n",
        "    std::vector<int> numbers(n);\n",
        "    for (int i = 0; i < n; ++i) {\n",
        "        std::cin >> numbers[i];\n",
        "    }\n",
        "\n",
        "    std::cout << MaxPairwiseProduct(numbers) << \"\\n\";\n",
        "    return 0;\n",
        "}"
      ],
      "execution_count": 18,
      "outputs": [
        {
          "output_type": "stream",
          "text": [
            "Writing max_pairwise_product1.cpp\n"
          ],
          "name": "stdout"
        }
      ]
    },
    {
      "cell_type": "code",
      "metadata": {
        "colab": {
          "base_uri": "https://localhost:8080/"
        },
        "id": "1JOI3pUJr6Fs",
        "outputId": "8dcb98b6-9f4f-4c7f-de46-2af1b79c4975"
      },
      "source": [
        "!g++ max_pairwise_product1.cpp -o max_pairwise_product1\n",
        "!./max_pairwise_product1"
      ],
      "execution_count": 19,
      "outputs": [
        {
          "output_type": "stream",
          "text": [
            "3 5\n",
            "3 4 5 6\n",
            "20\n"
          ],
          "name": "stdout"
        }
      ]
    },
    {
      "cell_type": "markdown",
      "metadata": {
        "id": "q1-I_RrSsAZq"
      },
      "source": [
        "##### Edge case: largest input\n",
        "Exists an overflow"
      ]
    },
    {
      "cell_type": "code",
      "metadata": {
        "colab": {
          "base_uri": "https://localhost:8080/"
        },
        "id": "gNyTSAu4sELz",
        "outputId": "0c901a85-920b-4248-c61c-3f6a070c142d"
      },
      "source": [
        "%%writefile input1.txt\n",
        "6\n",
        "1 3 200000 9 200000 23"
      ],
      "execution_count": 20,
      "outputs": [
        {
          "output_type": "stream",
          "text": [
            "Overwriting input1.txt\n"
          ],
          "name": "stdout"
        }
      ]
    },
    {
      "cell_type": "code",
      "metadata": {
        "colab": {
          "base_uri": "https://localhost:8080/"
        },
        "id": "FlxdZFKzsHeL",
        "outputId": "6759ef40-f30e-41c0-b5e4-2f18d50186c8"
      },
      "source": [
        "%time\n",
        "!./max_pairwise_product1 < input1.txt"
      ],
      "execution_count": 21,
      "outputs": [
        {
          "output_type": "stream",
          "text": [
            "CPU times: user 3 µs, sys: 0 ns, total: 3 µs\n",
            "Wall time: 7.87 µs\n",
            "1345294336\n"
          ],
          "name": "stdout"
        }
      ]
    },
    {
      "cell_type": "code",
      "metadata": {
        "colab": {
          "base_uri": "https://localhost:8080/"
        },
        "id": "Y2RMrMG0soij",
        "outputId": "8306ca26-41d8-4c05-9a91-96a455095dfd"
      },
      "source": [
        "%%writefile max_pairwise_product2.cpp\n",
        "#include <iostream>\n",
        "#include <vector>\n",
        "#include <algorithm>\n",
        "\n",
        "long long MaxPairwiseProduct(const std::vector<int>& numbers) {\n",
        "    long long max_product = 0LL;\n",
        "\t  long long aux_product = 0LL;\n",
        "    int n = numbers.size();\n",
        "\n",
        "    for (int first = 0; first < n; ++first) {\n",
        "        for (int second = first + 1; second < n; ++second) {\n",
        "\t\t\t       aux_product =  (long long) numbers[first] * numbers[second];\n",
        "            if ( max_product < aux_product)  {\n",
        "\t\t\t\t        max_product = aux_product;\n",
        "             }\n",
        "        }\n",
        "    }\n",
        "\n",
        "    return max_product;\n",
        "}\n",
        "\n",
        "int main() {\n",
        "    int n;\n",
        "    std::cin >> n;\n",
        "    std::vector<int> numbers(n);\n",
        "    for (int i = 0; i < n; ++i) {\n",
        "        std::cin >> numbers[i];\n",
        "    }\n",
        "\n",
        "    std::cout << MaxPairwiseProduct(numbers) << \"\\n\";\n",
        "    return 0;\n",
        "}"
      ],
      "execution_count": 22,
      "outputs": [
        {
          "output_type": "stream",
          "text": [
            "Writing max_pairwise_product2.cpp\n"
          ],
          "name": "stdout"
        }
      ]
    },
    {
      "cell_type": "code",
      "metadata": {
        "colab": {
          "base_uri": "https://localhost:8080/"
        },
        "id": "c8Du9lZZst48",
        "outputId": "fecc8678-9a25-447c-8c1d-1c79fdc3967b"
      },
      "source": [
        "%time\n",
        "!g++ max_pairwise_product2.cpp -o max_pairwise_product2\n",
        "!./max_pairwise_product2 < input1.txt"
      ],
      "execution_count": 23,
      "outputs": [
        {
          "output_type": "stream",
          "text": [
            "CPU times: user 3 µs, sys: 0 ns, total: 3 µs\n",
            "Wall time: 7.39 µs\n",
            "40000000000\n"
          ],
          "name": "stdout"
        }
      ]
    },
    {
      "cell_type": "markdown",
      "metadata": {
        "id": "rPL-yd5ZtLn0"
      },
      "source": [
        "#### **C++: Efficient** \n",
        "Solving the problem more efficiently"
      ]
    },
    {
      "cell_type": "code",
      "metadata": {
        "colab": {
          "base_uri": "https://localhost:8080/"
        },
        "id": "aprTCURttUEc",
        "outputId": "8ff236ae-0e62-4bb8-f451-d94e43829efd"
      },
      "source": [
        "%%writefile max_pairwise_product_3.cpp\n",
        "#include <iostream>\n",
        "#include <vector>\n",
        "#include <algorithm>\n",
        "\n",
        "int main() {\n",
        "    int n;\n",
        "    std::cin >> n;\n",
        "    long long max = 0LL;\n",
        "    long long max2 = 0LL;\n",
        "    long long number = 0LL ;\n",
        "    for (int i = 0; i < n; ++i) {\n",
        "        std::cin >> number;\n",
        "        if(number >= max){\n",
        "            max2 = max;\n",
        "            max = number;\n",
        "        }\n",
        "        else if(number > max2 ){\n",
        "            max2 = number;\n",
        "        }\n",
        "    }\n",
        "    std::cout << max*max2 << \"\\n\";\n",
        "\n",
        "    return 0;\n",
        "}"
      ],
      "execution_count": 24,
      "outputs": [
        {
          "output_type": "stream",
          "text": [
            "Writing max_pairwise_product_3.cpp\n"
          ],
          "name": "stdout"
        }
      ]
    },
    {
      "cell_type": "code",
      "metadata": {
        "colab": {
          "base_uri": "https://localhost:8080/"
        },
        "id": "Rt3hJv32uYbc",
        "outputId": "8ac7fb4f-0692-45c3-e782-5b54767f3dc5"
      },
      "source": [
        "!g++ max_pairwise_product_3.cpp -o max_pairwise_product_3\n",
        "!./max_pairwise_product_3"
      ],
      "execution_count": 25,
      "outputs": [
        {
          "output_type": "stream",
          "text": [
            "2   3  4\n",
            "12\n"
          ],
          "name": "stdout"
        }
      ]
    },
    {
      "cell_type": "markdown",
      "metadata": {
        "id": "nw5TBrjvn2sF"
      },
      "source": [
        "Now, define a `python` function to generate the test data, for the stress test.\n",
        "Here, we're using `python` for generate random data and write it in the `stress.txt` file.  "
      ]
    },
    {
      "cell_type": "code",
      "metadata": {
        "id": "5BUEVmLto8Hy"
      },
      "source": [
        "import numpy as np\n",
        "from random import randint\n",
        "\n",
        "def generate_numbers(min_n, max_n, min_ai, max_ai):\n",
        "  n = randint(min_n, max_n)\n",
        "  print(\"Writing {} numbers in stress.txt (...)\".format(n))\n",
        "  f = open(\"stress.txt\", 'w')\n",
        "  f.write(\"{}\\n\".format(n))\n",
        "\n",
        "  for i in range(n):\n",
        "    ai = randint(min_ai, max_ai)\n",
        "    f.write(\"{}\".format(ai)+\" \")\n",
        "  \n",
        "  print(\"Operation completed\")"
      ],
      "execution_count": 26,
      "outputs": []
    },
    {
      "cell_type": "code",
      "metadata": {
        "colab": {
          "base_uri": "https://localhost:8080/"
        },
        "id": "Q6_-rv1EtpU9",
        "outputId": "e5a42ce5-4974-4bf5-a383-b92ffa0597cb"
      },
      "source": [
        "%%time\n",
        "# max_boundary = (2*10)**5\n",
        "max_boundary = (2*10)**5\n",
        "generate_numbers(2,max_boundary, 0, max_boundary)"
      ],
      "execution_count": 27,
      "outputs": [
        {
          "output_type": "stream",
          "text": [
            "Writing 703228 numbers in stress.txt (...)\n",
            "Operation completed\n",
            "CPU times: user 1.3 s, sys: 16.3 ms, total: 1.31 s\n",
            "Wall time: 1.32 s\n"
          ],
          "name": "stdout"
        }
      ]
    },
    {
      "cell_type": "code",
      "metadata": {
        "colab": {
          "base_uri": "https://localhost:8080/"
        },
        "id": "5rbdU6xOsnJF",
        "outputId": "a786949b-55f5-4faf-c03f-3233ea475d75"
      },
      "source": [
        "## Read first 100 bytes of stress.txt\n",
        "!head -c 100 stress.txt"
      ],
      "execution_count": 28,
      "outputs": [
        {
          "output_type": "stream",
          "text": [
            "703228\n",
            "1592449 1237901 988082 576582 1448692 1477065 2765029 1928885 958482 224880 27441 375946 2429"
          ],
          "name": "stdout"
        }
      ]
    },
    {
      "cell_type": "markdown",
      "metadata": {
        "id": "pwh6CYWIh4zy"
      },
      "source": [
        "Remember that the first line is $n$, so in this case we're gonna test around $1.700.000$ numbers!\n",
        "\n",
        "Naive algorithm is $O(n^2)$ meanwhile, efficent algorithm is $O(n)$, this can be observed in the stress testing section."
      ]
    },
    {
      "cell_type": "markdown",
      "metadata": {
        "id": "P42xbu_etz9l"
      },
      "source": [
        "##### **Stress testing**\n",
        "Using generated `stress.txt` file for test two implementations of the Algorithm in `C++`"
      ]
    },
    {
      "cell_type": "code",
      "metadata": {
        "colab": {
          "base_uri": "https://localhost:8080/"
        },
        "id": "sWWa9oSm4yzI",
        "outputId": "926feed6-59cb-4494-e394-c1b8497d3ef2"
      },
      "source": [
        "%%time\n",
        "#Using naive\n",
        "!./max_pairwise_product2 < stress.txt"
      ],
      "execution_count": 29,
      "outputs": [
        {
          "output_type": "stream",
          "text": [
            "3 4 5 2\n",
            "5\n",
            "6\n",
            "1\n",
            "^C\n",
            "CPU times: user 221 ms, sys: 42.1 ms, total: 263 ms\n",
            "Wall time: 36.8 s\n"
          ],
          "name": "stdout"
        }
      ]
    },
    {
      "cell_type": "markdown",
      "metadata": {
        "id": "X_x5D97vhx_R"
      },
      "source": [
        "Time expensive, stopped at 4min 25s"
      ]
    },
    {
      "cell_type": "code",
      "metadata": {
        "colab": {
          "base_uri": "https://localhost:8080/"
        },
        "id": "1YOs5FN85bJw",
        "outputId": "bd9f2aca-075f-4457-caf3-0eb1f6ae0bfa"
      },
      "source": [
        "%%time\n",
        "#Using efficent solution\n",
        "!./max_pairwise_product_3 < stress.txt"
      ],
      "execution_count": 30,
      "outputs": [
        {
          "output_type": "stream",
          "text": [
            "10239968000025\n",
            "CPU times: user 8.4 ms, sys: 4.79 ms, total: 13.2 ms\n",
            "Wall time: 316 ms\n"
          ],
          "name": "stdout"
        }
      ]
    },
    {
      "cell_type": "markdown",
      "metadata": {
        "id": "XbeOO-Z5ujxO"
      },
      "source": [
        "#### **Python: Naive**"
      ]
    },
    {
      "cell_type": "code",
      "metadata": {
        "colab": {
          "base_uri": "https://localhost:8080/"
        },
        "id": "R2gMN8gVurjy",
        "outputId": "6b5ed138-e730-46c5-cdbb-4f83f35131c9"
      },
      "source": [
        "%%writefile max_pairwise_product_naive.py\n",
        "\n",
        "def max_pairwise_product(numbers):\n",
        "    n = len(numbers)\n",
        "    max_product = 0\n",
        "    for first in range(n):\n",
        "        for second in range(first + 1, n):\n",
        "            max_product = max(max_product,\n",
        "                numbers[first] * numbers[second])\n",
        "\n",
        "    return max_product\n",
        "\n",
        "\n",
        "if __name__ == '__main__':\n",
        "    input_n = int(input())\n",
        "    input_numbers = [int(x) for x in input().split()]\n",
        "    print(max_pairwise_product(input_numbers))"
      ],
      "execution_count": 31,
      "outputs": [
        {
          "output_type": "stream",
          "text": [
            "Writing max_pairwise_product_naive.py\n"
          ],
          "name": "stdout"
        }
      ]
    },
    {
      "cell_type": "code",
      "metadata": {
        "colab": {
          "base_uri": "https://localhost:8080/"
        },
        "id": "CvzCSTk9yU-f",
        "outputId": "d199b5f7-6dc4-41a7-bb88-ae5caa89ff5f"
      },
      "source": [
        "!python3 max_pairwise_product_naive.py"
      ],
      "execution_count": 32,
      "outputs": [
        {
          "output_type": "stream",
          "text": [
            "2 3 4\n",
            "Traceback (most recent call last):\n",
            "  File \"max_pairwise_product_naive.py\", line 14, in <module>\n",
            "    input_n = int(input())\n",
            "ValueError: invalid literal for int() with base 10: '2 3 4'\n"
          ],
          "name": "stdout"
        }
      ]
    },
    {
      "cell_type": "markdown",
      "metadata": {
        "id": "VWDb1tYz6_16"
      },
      "source": [
        "#### **Python: Efficient**"
      ]
    },
    {
      "cell_type": "code",
      "metadata": {
        "colab": {
          "base_uri": "https://localhost:8080/"
        },
        "id": "sbv7Hlhr7DhB",
        "outputId": "54dfbc47-45fb-42cc-a3c5-88d11ed389b5"
      },
      "source": [
        "%%writefile max_pairwise_product_efficent.py\n",
        "#python3\n",
        "def max_pairwise_product_efficent():\n",
        "  n = int(input())\n",
        "  numbers = [int(x) for x in input().split()]\n",
        "  max = 0\n",
        "  max2 = 0\n",
        "\n",
        "  for i in range(len(numbers)):\n",
        "    if(numbers[i]>= max):\n",
        "      max2 = max\n",
        "      max  = numbers[i]\n",
        "    elif(numbers[i] > max2):  \n",
        "      max2 = numbers[i]\n",
        "\n",
        "  return (max*max2)\n",
        "\n",
        "print(max_pairwise_product_efficent())"
      ],
      "execution_count": 33,
      "outputs": [
        {
          "output_type": "stream",
          "text": [
            "Writing max_pairwise_product_efficent.py\n"
          ],
          "name": "stdout"
        }
      ]
    },
    {
      "cell_type": "code",
      "metadata": {
        "colab": {
          "base_uri": "https://localhost:8080/"
        },
        "id": "cRi7XANg0KSQ",
        "outputId": "a9fa11f9-9c85-4788-bfe0-946c7474f1ef"
      },
      "source": [
        "!python3 max_pairwise_product_efficent.py"
      ],
      "execution_count": 34,
      "outputs": [
        {
          "output_type": "stream",
          "text": [
            "Traceback (most recent call last):\n",
            "  File \"max_pairwise_product_efficent.py\", line 17, in <module>\n",
            "    print(max_pairwise_product_efficent())\n",
            "  File \"max_pairwise_product_efficent.py\", line 3, in max_pairwise_product_efficent\n",
            "    n = int(input())\n",
            "KeyboardInterrupt\n",
            "^C\n"
          ],
          "name": "stdout"
        }
      ]
    },
    {
      "cell_type": "markdown",
      "metadata": {
        "id": "mTD3e6__EuCB"
      },
      "source": [
        "##### **Stress testing**\n",
        "Using generated `stress.txt` file for test two implementations of the Algorithm in `python`"
      ]
    },
    {
      "cell_type": "code",
      "metadata": {
        "id": "Nq6VOmgYEzkp"
      },
      "source": [
        "# Naive Algorithm\n",
        "%%time\n",
        "!python3 max_pairwise_product_naive.py < stress.txt"
      ],
      "execution_count": null,
      "outputs": []
    },
    {
      "cell_type": "markdown",
      "metadata": {
        "id": "56-WsNZChp2E"
      },
      "source": [
        "Time expensive, stopped at 2 min 20s."
      ]
    },
    {
      "cell_type": "code",
      "metadata": {
        "id": "FrNrcnEKE8hk"
      },
      "source": [
        "# Efficent Algorithm\n",
        "%%time\n",
        "!python3 max_pairwise_product_efficent.py < stress.txt"
      ],
      "execution_count": null,
      "outputs": []
    }
  ]
}